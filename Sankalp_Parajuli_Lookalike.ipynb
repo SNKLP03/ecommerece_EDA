{
 "cells": [
  {
   "cell_type": "code",
   "execution_count": 5,
   "id": "79ca914c-5bf6-4a9e-b394-785519e3d20d",
   "metadata": {},
   "outputs": [
    {
     "name": "stdout",
     "output_type": "stream",
     "text": [
      "Sankalp_Parajuli_Lookalike.csv Generated!\n"
     ]
    }
   ],
   "source": [
    "import pandas as pd\n",
    "from sklearn.preprocessing import MultiLabelBinarizer, StandardScaler\n",
    "from sklearn.metrics.pairwise import cosine_similarity\n",
    "\n",
    "customers = pd.read_csv('Customers.csv')\n",
    "products = pd.read_csv('Products.csv')\n",
    "transactions = pd.read_csv('Transactions.csv')\n",
    "\n",
    "data = transactions.merge(customers, on='CustomerID').merge(products, on ='ProductID')\n",
    "customer_profiles = data.groupby('CustomerID').agg({\n",
    "    'TotalValue': 'sum',\n",
    "    'Quantity': 'sum',\n",
    "    'ProductID': lambda x: list(x),\n",
    "    'Region': 'first',\n",
    "    'TransactionID': 'count'}).reset_index()\n",
    "\n",
    "\n",
    "\n",
    "mlb = MultiLabelBinarizer()\n",
    "product_encoded = pd.DataFrame(\n",
    "    mlb.fit_transform(customer_profiles['ProductID']),\n",
    "    columns = mlb.classes_,\n",
    "    index = customer_profiles.index\n",
    ")\n",
    "\n",
    "region_encoded = pd.get_dummies(customer_profiles['Region'], prefix = 'Region')\n",
    "features = pd.concat([customer_profiles[['TotalValue', 'Quantity']], region_encoded, product_encoded], axis = 1)\n",
    "\n",
    "similarity_matrix = cosine_similarity(features)\n",
    "similarity_df = pd.DataFrame(similarity_matrix, index = customer_profiles['CustomerID'], columns = customer_profiles['CustomerID'])\n",
    "\n",
    "recommendations = []\n",
    "for customer_id in customer_profiles['CustomerID'][:20]:\n",
    "    similar_customers = similarity_df[customer_id].sort_values(ascending = False).iloc[1:4]\n",
    "    recommendations.append({\n",
    "    'CustomerID': customer_id,\n",
    "    'Lookalike1': similar_customers.index[0],\n",
    "    'Score1': similar_customers.iloc[0],\n",
    "    'Lookalike2': similar_customers.index[1],\n",
    "    'Score2': similar_customers.iloc[1],\n",
    "    'Lookalike3': similar_customers.index[2],\n",
    "    'Score3': similar_customers.iloc[2],})\n",
    "\n",
    "recommendations_df = pd.DataFrame(recommendations)\n",
    "recommendations_df.to_csv('Lookalike.csv', index = False)\n",
    "features.to_csv('ProcessedFeatures.csv', index=False)\n",
    "print(\"Sankalp_Parajuli_Lookalike.csv Generated!\")"
   ]
  },
  {
   "cell_type": "code",
   "execution_count": null,
   "id": "f1c54b65-9532-455c-9a7f-96813e180aa0",
   "metadata": {},
   "outputs": [],
   "source": []
  }
 ],
 "metadata": {
  "kernelspec": {
   "display_name": "Python 3 (ipykernel)",
   "language": "python",
   "name": "python3"
  },
  "language_info": {
   "codemirror_mode": {
    "name": "ipython",
    "version": 3
   },
   "file_extension": ".py",
   "mimetype": "text/x-python",
   "name": "python",
   "nbconvert_exporter": "python",
   "pygments_lexer": "ipython3",
   "version": "3.12.2"
  }
 },
 "nbformat": 4,
 "nbformat_minor": 5
}
